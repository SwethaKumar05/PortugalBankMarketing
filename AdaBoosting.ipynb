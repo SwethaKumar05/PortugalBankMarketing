{
 "cells": [
  {
   "cell_type": "markdown",
   "id": "194ef97a",
   "metadata": {},
   "source": [
    "#  Building a model."
   ]
  },
  {
   "cell_type": "markdown",
   "id": "765bcf78",
   "metadata": {},
   "source": [
    "# AdaBoost:"
   ]
  },
  {
   "cell_type": "code",
   "execution_count": 99,
   "id": "cebacf35",
   "metadata": {},
   "outputs": [
    {
     "name": "stdout",
     "output_type": "stream",
     "text": [
      "AdaBoost Classifier Model Accuracy: 0.9132475519948208\n"
     ]
    }
   ],
   "source": [
    "from sklearn.metrics import accuracy_score\n",
    "accuracy_test_ada = accuracy_score(y_test,predict_test)\n",
    "print(\"AdaBoost Classifier Model Accuracy:\", accuracy_score(y_test, y_pred))"
   ]
  },
  {
   "cell_type": "code",
   "execution_count": 100,
   "id": "fa54e9aa",
   "metadata": {},
   "outputs": [
    {
     "data": {
      "text/plain": [
       "array([[10686,   283],\n",
       "       [  789,   599]], dtype=int64)"
      ]
     },
     "execution_count": 100,
     "metadata": {},
     "output_type": "execute_result"
    }
   ],
   "source": [
    "from sklearn.metrics import confusion_matrix\n",
    "confusion_matrix(y_test,y_pred)"
   ]
  },
  {
   "cell_type": "raw",
   "id": "c9716954",
   "metadata": {},
   "source": [
    "TruePostive = 10686\n",
    "\n",
    "TrueNegative = 599\n",
    "\n",
    "FalsePositive = 789\n",
    "\n",
    "FalseNegative = 283"
   ]
  },
  {
   "cell_type": "code",
   "execution_count": 101,
   "id": "85e69401",
   "metadata": {},
   "outputs": [],
   "source": [
    "ada = AdaBoostClassifier()\n",
    "ada.fit(x_train, y_train)\n",
    "y_train_ada = ada.predict(x_train)\n",
    "y_hat_test_ada = ada.predict(x_test)"
   ]
  },
  {
   "cell_type": "code",
   "execution_count": 102,
   "id": "fb45f64b",
   "metadata": {},
   "outputs": [
    {
     "name": "stdout",
     "output_type": "stream",
     "text": [
      "              precision    recall  f1-score   support\n",
      "\n",
      "          no       0.93      0.97      0.95     25579\n",
      "         yes       0.67      0.39      0.49      3252\n",
      "\n",
      "    accuracy                           0.91     28831\n",
      "   macro avg       0.80      0.68      0.72     28831\n",
      "weighted avg       0.90      0.91      0.90     28831\n",
      "\n"
     ]
    }
   ],
   "source": [
    "print(classification_report(y_train, y_train_ada))"
   ]
  },
  {
   "cell_type": "code",
   "execution_count": 105,
   "id": "01b19310",
   "metadata": {},
   "outputs": [
    {
     "name": "stdout",
     "output_type": "stream",
     "text": [
      "              precision    recall  f1-score   support\n",
      "\n",
      "          no       0.93      0.97      0.95     10969\n",
      "         yes       0.67      0.41      0.51      1388\n",
      "\n",
      "    accuracy                           0.91     12357\n",
      "   macro avg       0.80      0.69      0.73     12357\n",
      "weighted avg       0.90      0.91      0.90     12357\n",
      "\n"
     ]
    }
   ],
   "source": [
    "print(classification_report(y_test, y_hat_test_ada))"
   ]
  },
  {
   "cell_type": "markdown",
   "id": "bfa0bb4e",
   "metadata": {},
   "source": [
    "# Inference from the models."
   ]
  },
  {
   "cell_type": "code",
   "execution_count": 104,
   "id": "6b0f0361",
   "metadata": {},
   "outputs": [
    {
     "name": "stdout",
     "output_type": "stream",
     "text": [
      "                 Model  Test_Accuracy\n",
      "0  Logistic Regression        0.91171\n",
      "1             AdaBoost        0.91171\n"
     ]
    }
   ],
   "source": [
    "d=[['Logistic Regression',accuracy_test],['AdaBoost',accuracy_test_ada]]\n",
    "df1 = pd.DataFrame(d, columns = ['Model','Test_Accuracy'])\n",
    "print(df1)\n",
    "   "
   ]
  },
  {
   "cell_type": "markdown",
   "id": "d8ca4cca",
   "metadata": {},
   "source": [
    "Both models ***Logistic Regression*** and  ***AdaBoost*** has the same accuracy. "
   ]
  },
  {
   "cell_type": "code",
   "execution_count": 107,
   "id": "b0608687",
   "metadata": {},
   "outputs": [
    {
     "name": "stdout",
     "output_type": "stream",
     "text": [
      "[[10688   281]\n",
      " [  810   578]]\n"
     ]
    }
   ],
   "source": [
    "conf_matrix_test = confusion_matrix(y_test, y_hat_test)\n",
    "print(conf_matrix_test)"
   ]
  },
  {
   "cell_type": "markdown",
   "id": "b358c1e2",
   "metadata": {},
   "source": [
    "***The TruePostive rate for this Logistic Regression is 10688 and the true negative rate is also low when compared to Adaboost model.***"
   ]
  },
  {
   "cell_type": "code",
   "execution_count": null,
   "id": "63548d8f",
   "metadata": {},
   "outputs": [],
   "source": []
  }
 ],
 "metadata": {
  "kernelspec": {
   "display_name": "Python 3 (ipykernel)",
   "language": "python",
   "name": "python3"
  },
  "language_info": {
   "codemirror_mode": {
    "name": "ipython",
    "version": 3
   },
   "file_extension": ".py",
   "mimetype": "text/x-python",
   "name": "python",
   "nbconvert_exporter": "python",
   "pygments_lexer": "ipython3",
   "version": "3.10.9"
  }
 },
 "nbformat": 4,
 "nbformat_minor": 5
}
